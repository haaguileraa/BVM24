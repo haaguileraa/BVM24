{
 "cells": [
  {
   "cell_type": "code",
   "execution_count": 1,
   "metadata": {},
   "outputs": [],
   "source": [
    "import numpy as np\n",
    "import tensorflow as tf\n",
    "import matplotlib.pyplot as plt\n",
    "import imageio.v2 as io"
   ]
  },
  {
   "cell_type": "code",
   "execution_count": null,
   "metadata": {},
   "outputs": [],
   "source": [
    "from tensorflow.keras.layers import Conv2D, Input, Concatenate, Activation, MaxPool2D, UpSampling2D, GroupNormalization, \\\n",
    "                                    Add, Multiply\n",
    "from tensorflow.keras.models import Model\n"
   ]
  },
  {
   "cell_type": "code",
   "execution_count": null,
   "metadata": {},
   "outputs": [],
   "source": [
    "def conv(x, filters:int=8, activation:str=\"swish\"):\n",
    "    for i in range(2):\n",
    "        x = Conv2D(filters, (3,3), padding='same')(x)\n",
    "        x = GroupNormalization(groups=-1)(x) # InstanceNorm\n",
    "        x = Activation(activation)(x)\n",
    "    return x"
   ]
  },
  {
   "cell_type": "code",
   "execution_count": null,
   "metadata": {},
   "outputs": [],
   "source": [
    "def unet(filters=8, layers=4, input_shape=(224,224,1), activation='swish'):\n",
    "    to_concat = []\n",
    "    \n",
    "    model_in = Input(input_shape)\n",
    "    x = model_in\n",
    "    \n",
    "    # Encoder\n",
    "    for i in range(layers):\n",
    "        x = conv(x, filters*2**i, activation)\n",
    "        to_concat.append(x)\n",
    "        x = MaxPool2D()(x)\n",
    "    \n",
    "    # Latent\n",
    "    x = Conv2D(filters*2**layers, (3,3), padding='same')(x)\n",
    "    x = GroupNormalization(groups=-1)(x)  # InstanceNorm\n",
    "    x = Activation(activation)(x)\n",
    "    \n",
    "    # Decoder\n",
    "    for i in range(layers):\n",
    "        x = UpSampling2D()(x)\n",
    "        x = Concatenate()([x, to_concat.pop()])\n",
    "        x = conv(x, filters*2**(layers-i-1), activation)\n",
    "    \n",
    "    x = Conv2D(1, (1,1), padding='same')(x)\n",
    "    model_out = Activation(\"sigmoid\")(x)\n",
    "    \n",
    "    return Model(model_in, model_out)"
   ]
  },
  {
   "cell_type": "code",
   "execution_count": null,
   "metadata": {},
   "outputs": [],
   "source": [
    "def nestedUnet(nests=4, filters=1, forward_input=True, operation=\"multiply\", input_shape=(256, 256, 1)):\n",
    "    x = Input(input_shape)\n",
    "    m0 = unet(filters, input_shape=input_shape)(x)\n",
    "    \n",
    "    if nests > 1:\n",
    "        tmp = m0\n",
    "        \n",
    "        for i in range(nests-1):\n",
    "            if forward_input:\n",
    "                if operation == 'add':\n",
    "                    tmp = Add()([x, tmp])\n",
    "                    \n",
    "                elif operation == 'multiply':\n",
    "                    tmp = Multiply()([x, tmp])\n",
    "                    \n",
    "                else:\n",
    "                    tmp = Concatenate(axis=3)([x, tmp])\n",
    "                \n",
    "            tmp = unet(filters, input_shape=tmp.shape[1:])(tmp)\n",
    "\n",
    "        return Model(x, tmp)        \n",
    "        \n",
    "    else:\n",
    "        return Model(x, m0)"
   ]
  },
  {
   "cell_type": "code",
   "execution_count": null,
   "metadata": {},
   "outputs": [],
   "source": [
    "TRAINING_PATH = \"./training224x224/\"\n",
    "image_width = 224\n",
    "image_height = 224\n",
    "NUM_NESTS = 4\n",
    "NUM_FILTERS = 8\n",
    "   \n",
    "N = 22 # arbitrary number of samples\n",
    "\n",
    "train_imgs = [TRAINING_PATH + str(i) + \".png\" for i in range(N)]\n",
    "train_segs = [TRAINING_PATH + str(i) + \"_seg.png\" for i in range(N)]\n",
    "\n",
    "imgs = []\n",
    "segs = []\n",
    "\n",
    "for i in range(N):\n",
    "    seg = io.imread(train_segs[i])\n",
    "    if np.max(seg) != 0:  # To remove the black images\n",
    "        if np.max(seg) > 10:\n",
    "            seg = seg / 255.0\n",
    "\n",
    "        img = io.imread(train_imgs[i]) / 255.0\n",
    "\n",
    "        # imgs.append(np.expand_dims(img, axis=2))\n",
    "        # segs.append(np.expand_dims(seg, axis=2))\n",
    "\n",
    "        imgs.append(np.array(tf.expand_dims(img, -1)))\n",
    "        segs.append(np.array(tf.expand_dims(seg, -1)))\n",
    "\n",
    "# Randomizing\n",
    "nSamples = len(imgs)\n",
    "np.random.seed(42)\n",
    "indices = np.arange(nSamples)\n",
    "np.random.shuffle(indices)  # Shuffling indices directly\n",
    "\n",
    "imgs = [imgs[i] for i in indices]\n",
    "segs = [segs[i] for i in indices]\n",
    "\n",
    "\n"
   ]
  },
  {
   "cell_type": "code",
   "execution_count": null,
   "metadata": {},
   "outputs": [],
   "source": [
    "plt.imshow(imgs[0], cmap = 'gray')"
   ]
  },
  {
   "cell_type": "code",
   "execution_count": null,
   "metadata": {},
   "outputs": [],
   "source": [
    "nestedModel = nestedUnet(nests=NUM_NESTS, filters=NUM_FILTERS, input_shape=(image_width, image_height, 1))\n",
    "nestedModel.summary()\n",
    "nestedModel.compile(\"adam\", \"mse\")\n",
    "\n",
    "# Training\n",
    "history = nestedModel.fit(np.array(imgs), np.array(segs), epochs=10, batch_size=4)"
   ]
  },
  {
   "cell_type": "code",
   "execution_count": null,
   "metadata": {},
   "outputs": [],
   "source": [
    "imgTest = io.imread(f\"{TRAINING_PATH}{N+1}.png\" ) / 255.0\n",
    "imgTest = np.expand_dims(imgTest, axis=2)\n",
    "plt.imshow(imgTest, cmap = 'gray')"
   ]
  },
  {
   "cell_type": "code",
   "execution_count": null,
   "metadata": {},
   "outputs": [],
   "source": [
    "print(imgTest.shape)"
   ]
  },
  {
   "cell_type": "code",
   "execution_count": null,
   "metadata": {},
   "outputs": [],
   "source": [
    "tests = []\n",
    "test_imgs = [TRAINING_PATH + str(i) + \".png\" for i in range(N+1,N+10)]\n",
    "for i in range(len(test_imgs)):\n",
    "    img = io.imread(test_imgs[i]) / 255.0\n",
    "\n",
    "    tests.append(np.array(tf.expand_dims(img, -1)))"
   ]
  },
  {
   "cell_type": "code",
   "execution_count": null,
   "metadata": {},
   "outputs": [],
   "source": [
    "plt.imshow(tests[0], cmap = 'gray')"
   ]
  },
  {
   "cell_type": "code",
   "execution_count": null,
   "metadata": {},
   "outputs": [],
   "source": [
    "# predicting:\n",
    "pred = nestedModel.predict(np.array(tests))"
   ]
  },
  {
   "cell_type": "code",
   "execution_count": null,
   "metadata": {},
   "outputs": [],
   "source": [
    "\n",
    "plt.figure(figsize=(12,5))\n",
    "plt.subplot(1,2,1); plt.imshow(tests[0], cmap='gray'); plt.title('R')\n",
    "plt.subplot(1,2,2); plt.imshow(pred[0], cmap='gray'); plt.title('G')\n",
    "plt.tight_layout() "
   ]
  }
 ],
 "metadata": {
  "kernelspec": {
   "display_name": ".venvBVM",
   "language": "python",
   "name": "python3"
  },
  "language_info": {
   "codemirror_mode": {
    "name": "ipython",
    "version": 3
   },
   "file_extension": ".py",
   "mimetype": "text/x-python",
   "name": "python",
   "nbconvert_exporter": "python",
   "pygments_lexer": "ipython3",
   "version": "3.11.3"
  }
 },
 "nbformat": 4,
 "nbformat_minor": 2
}
