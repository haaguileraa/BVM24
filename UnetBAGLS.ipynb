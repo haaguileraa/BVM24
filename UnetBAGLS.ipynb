{
 "cells": [
  {
   "cell_type": "code",
   "execution_count": 6,
   "metadata": {},
   "outputs": [],
   "source": [
    "import numpy as np\n",
    "import tensorflow as tf\n",
    "import matplotlib.pyplot as plt\n",
    "import imageio.v2 as io"
   ]
  },
  {
   "cell_type": "code",
   "execution_count": 2,
   "metadata": {},
   "outputs": [],
   "source": [
    "from tensorflow.keras.layers import Conv2D, Input, Concatenate, Activation, MaxPool2D, UpSampling2D, GroupNormalization, \\\n",
    "                                    Add, Multiply\n",
    "from tensorflow.keras.models import Model"
   ]
  },
  {
   "cell_type": "code",
   "execution_count": 10,
   "metadata": {},
   "outputs": [],
   "source": [
    "trainingPath = \"./training224x224\"\n",
    "image_width = 224\n",
    "image_height = 224"
   ]
  },
  {
   "cell_type": "code",
   "execution_count": 16,
   "metadata": {},
   "outputs": [],
   "source": [
    "## Convert the image from 224x224 to 224x224x1\n",
    "img = io.imread(trainingPath + \"/1.png\")"
   ]
  },
  {
   "cell_type": "code",
   "execution_count": 17,
   "metadata": {},
   "outputs": [],
   "source": [
    "def conv(x, filters:int=8, activation:str=\"swish\"):\n",
    "    for i in range(2):\n",
    "        x = Conv2D(filters, (3,3), padding='same')(x)\n",
    "        x = GroupNormalization(groups=-1)(x) # InstanceNorm\n",
    "        x = Activation(activation)(x)\n",
    "    return x"
   ]
  },
  {
   "cell_type": "code",
   "execution_count": null,
   "metadata": {},
   "outputs": [],
   "source": [
    "def unet(filters=8, layers=4, input_shape=(256,256,1), activation='swish'):\n",
    "    to_concat = []\n",
    "    \n",
    "    model_in = Input(input_shape)\n",
    "    x = model_in\n",
    "    \n",
    "    # Encoder\n",
    "    for i in range(layers):\n",
    "        x = conv(x, filters*2**i, activation)\n",
    "        to_concat.append(x)\n",
    "        x = MaxPool2D()(x)\n",
    "    \n",
    "    # Latent\n",
    "    x = Conv2D(filters*2**layers, (3,3), padding='same')(x)\n",
    "    x = GroupNormalization(groups=-1)(x)  # InstanceNorm\n",
    "    x = Activation(activation)(x)\n",
    "    \n",
    "    # Decoder\n",
    "    for i in range(layers):\n",
    "        x = UpSampling2D()(x)\n",
    "        x = Concatenate()([x, to_concat.pop()])\n",
    "        x = conv(x, filters*2**(layers-i-1), activation)\n",
    "    \n",
    "    x = Conv2D(1, (1,1), padding='same')(x)\n",
    "    model_out = Activation(\"sigmoid\")(x)\n",
    "    \n",
    "    return Model(model_in, model_out)"
   ]
  },
  {
   "cell_type": "code",
   "execution_count": null,
   "metadata": {},
   "outputs": [],
   "source": [
    "def nestedUnet(nests=4, filters=1, forward_input=True, operation=\"multiply\", input_shape=(256, 256, 1)):\n",
    "    x = Input(input_shape)\n",
    "    \n",
    "    m0 = unet(filters, input_shape=input_shape)(x)\n",
    "    \n",
    "    if nests > 1:\n",
    "        tmp = m0\n",
    "        \n",
    "        for i in range(nests-1):\n",
    "            if forward_input:\n",
    "                if operation == 'add':\n",
    "                    tmp = Add()([x, tmp])\n",
    "                    \n",
    "                elif operation == 'multiply':\n",
    "                    tmp = Multiply()([x, tmp])\n",
    "                    \n",
    "                else:\n",
    "                    tmp = Concatenate(axis=3)([x, tmp])\n",
    "                \n",
    "            tmp = unet(filters, input_shape=tmp.shape[1:])(tmp)\n",
    "\n",
    "        return Model(x, tmp)        \n",
    "        \n",
    "    else:\n",
    "        return Model(x, m0)"
   ]
  },
  {
   "cell_type": "code",
   "execution_count": null,
   "metadata": {},
   "outputs": [],
   "source": [
    "y = nestedUnet(4, 1)"
   ]
  }
 ],
 "metadata": {
  "kernelspec": {
   "display_name": ".venvBVM",
   "language": "python",
   "name": "python3"
  },
  "language_info": {
   "codemirror_mode": {
    "name": "ipython",
    "version": 3
   },
   "file_extension": ".py",
   "mimetype": "text/x-python",
   "name": "python",
   "nbconvert_exporter": "python",
   "pygments_lexer": "ipython3",
   "version": "3.11.3"
  }
 },
 "nbformat": 4,
 "nbformat_minor": 2
}
