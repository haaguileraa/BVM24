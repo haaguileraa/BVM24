{
 "cells": [
  {
   "cell_type": "code",
   "execution_count": 1,
   "id": "8806b378",
   "metadata": {},
   "outputs": [],
   "source": [
    "import numpy as np\n",
    "import tensorflow as tf\n",
    "import matplotlib.pyplot as plt"
   ]
  },
  {
   "cell_type": "code",
   "execution_count": 2,
   "id": "c5ce654c",
   "metadata": {},
   "outputs": [],
   "source": [
    "from tensorflow.keras.layers import Conv2D, Input, Concatenate, Activation, MaxPool2D, UpSampling2D, GroupNormalization, \\\n",
    "                                    Add, Multiply\n",
    "from tensorflow.keras.models import Model"
   ]
  },
  {
   "cell_type": "code",
   "execution_count": 3,
   "id": "233723c0",
   "metadata": {},
   "outputs": [
    {
     "name": "stdout",
     "output_type": "stream",
     "text": [
      "[PhysicalDevice(name='/physical_device:CPU:0', device_type='CPU')]\n"
     ]
    }
   ],
   "source": [
    "print(tf.config.list_physical_devices())"
   ]
  },
  {
   "cell_type": "code",
   "execution_count": 4,
   "id": "bb9a0a80",
   "metadata": {},
   "outputs": [],
   "source": [
    "def conv(x, filters=8, activation=\"swish\"):\n",
    "    for i in range(2):\n",
    "        x = Conv2D(filters, (3,3), padding='same')(x)\n",
    "        x = GroupNormalization(groups=-1)(x) # InstanceNorm\n",
    "        x = Activation(activation)(x)\n",
    "        \n",
    "    return x"
   ]
  },
  {
   "cell_type": "code",
   "execution_count": 5,
   "id": "5d2456d6",
   "metadata": {},
   "outputs": [],
   "source": [
    "def unet(filters=8, layers=4, input_shape=(256,256,1), activation='swish'):\n",
    "    to_concat = []\n",
    "    \n",
    "    model_in = Input(input_shape)\n",
    "    x = model_in\n",
    "    \n",
    "    # Encoder\n",
    "    for i in range(layers):\n",
    "        x = conv(x, filters*2**i, activation)\n",
    "        to_concat.append(x)\n",
    "        x = MaxPool2D()(x)\n",
    "    \n",
    "    # Latent\n",
    "    x = Conv2D(filters*2**layers, (3,3), padding='same')(x)\n",
    "    x = GroupNormalization(groups=-1)(x)  # InstanceNorm\n",
    "    x = Activation(activation)(x)\n",
    "    \n",
    "    # Decoder\n",
    "    for i in range(layers):\n",
    "        x = UpSampling2D()(x)\n",
    "        x = Concatenate()([x, to_concat.pop()])\n",
    "        x = conv(x, filters*2**(layers-i-1), activation)\n",
    "    \n",
    "    x = Conv2D(1, (1,1), padding='same')(x)\n",
    "    model_out = Activation(\"sigmoid\")(x)\n",
    "    \n",
    "    return Model(model_in, model_out)"
   ]
  },
  {
   "cell_type": "code",
   "execution_count": 6,
   "id": "8dc126a0",
   "metadata": {},
   "outputs": [],
   "source": [
    "m = unet()"
   ]
  },
  {
   "cell_type": "code",
   "execution_count": 7,
   "id": "a261618f",
   "metadata": {},
   "outputs": [],
   "source": [
    "def nestedUnet(nests=4, filters=1, forward_input=True, operation=\"multiply\", input_shape=(256, 256, 1)):\n",
    "    x = Input(input_shape)\n",
    "    \n",
    "    m0 = unet(filters, input_shape=input_shape)(x)\n",
    "    \n",
    "    if nests > 1:\n",
    "        tmp = m0\n",
    "        \n",
    "        for i in range(nests-1):\n",
    "            if forward_input:\n",
    "                if operation == 'add':\n",
    "                    tmp = Add()([x, tmp])\n",
    "                    \n",
    "                elif operation == 'multiply':\n",
    "                    tmp = Multiply()([x, tmp])\n",
    "                    \n",
    "                else:\n",
    "                    tmp = Concatenate(axis=3)([x, tmp])\n",
    "                \n",
    "            tmp = unet(filters, input_shape=tmp.shape[1:])(tmp)\n",
    "\n",
    "        return Model(x, tmp)        \n",
    "        \n",
    "    else:\n",
    "        return Model(x, m0)"
   ]
  },
  {
   "cell_type": "code",
   "execution_count": 8,
   "id": "157caa43",
   "metadata": {
    "scrolled": false
   },
   "outputs": [
    {
     "name": "stdout",
     "output_type": "stream",
     "text": [
      "Model: \"model_5\"\n",
      "__________________________________________________________________________________________________\n",
      " Layer (type)                Output Shape                 Param #   Connected to                  \n",
      "==================================================================================================\n",
      " input_2 (InputLayer)        [(None, 256, 256, 1)]        0         []                            \n",
      "                                                                                                  \n",
      " model_1 (Functional)        (None, 256, 256, 1)          5594      ['input_2[0][0]']             \n",
      "                                                                                                  \n",
      " multiply (Multiply)         (None, 256, 256, 1)          0         ['input_2[0][0]',             \n",
      "                                                                     'model_1[0][0]']             \n",
      "                                                                                                  \n",
      " model_2 (Functional)        (None, 256, 256, 1)          5594      ['multiply[0][0]']            \n",
      "                                                                                                  \n",
      " multiply_1 (Multiply)       (None, 256, 256, 1)          0         ['input_2[0][0]',             \n",
      "                                                                     'model_2[0][0]']             \n",
      "                                                                                                  \n",
      " model_3 (Functional)        (None, 256, 256, 1)          5594      ['multiply_1[0][0]']          \n",
      "                                                                                                  \n",
      " multiply_2 (Multiply)       (None, 256, 256, 1)          0         ['input_2[0][0]',             \n",
      "                                                                     'model_3[0][0]']             \n",
      "                                                                                                  \n",
      " model_4 (Functional)        (None, 256, 256, 1)          5594      ['multiply_2[0][0]']          \n",
      "                                                                                                  \n",
      "==================================================================================================\n",
      "Total params: 22376 (87.41 KB)\n",
      "Trainable params: 22376 (87.41 KB)\n",
      "Non-trainable params: 0 (0.00 Byte)\n",
      "__________________________________________________________________________________________________\n"
     ]
    }
   ],
   "source": [
    "y = nestedUnet(4, 1)\n",
    "y.summary()"
   ]
  },
  {
   "cell_type": "code",
   "execution_count": 9,
   "id": "5bbe685a",
   "metadata": {},
   "outputs": [],
   "source": [
    "X = np.zeros((128, 256, 256, 1), dtype=np.float32)\n",
    "\n",
    "X[:, 100:140, 80:120] = 1"
   ]
  },
  {
   "cell_type": "code",
   "execution_count": 31,
   "id": "a9a9f4b9",
   "metadata": {},
   "outputs": [
    {
     "data": {
      "text/plain": [
       "(256, 256)"
      ]
     },
     "execution_count": 31,
     "metadata": {},
     "output_type": "execute_result"
    },
    {
     "data": {
      "image/png": "[encoded data removed]",
      "text/plain": [
       "<Figure size 640x480 with 1 Axes>"
      ]
     },
     "metadata": {},
     "output_type": "display_data"
    }
   ],
   "source": [
    "plt.imshow(X.sum((0,3)))\n",
    "X.sum((0,3)).shape"
   ]
  },
  {
   "cell_type": "code",
   "execution_count": 11,
   "id": "c20b4177",
   "metadata": {},
   "outputs": [],
   "source": [
    "y.compile(\"adam\", \"mse\")"
   ]
  },
  {
   "cell_type": "code",
   "execution_count": 12,
   "id": "06798575",
   "metadata": {},
   "outputs": [
    {
     "name": "stdout",
     "output_type": "stream",
     "text": [
      "Epoch 1/10\n",
      "32/32 [==============================] - 143s 2s/step - loss: 0.2281\n",
      "Epoch 2/10\n",
      "32/32 [==============================] - 35s 1s/step - loss: 0.2151\n",
      "Epoch 3/10\n",
      "32/32 [==============================] - 41s 1s/step - loss: 0.2041\n",
      "Epoch 4/10\n",
      "32/32 [==============================] - 51s 2s/step - loss: 0.1935\n",
      "Epoch 5/10\n",
      "32/32 [==============================] - 54s 2s/step - loss: 0.1833\n",
      "Epoch 6/10\n",
      "32/32 [==============================] - 50s 2s/step - loss: 0.1736\n",
      "Epoch 7/10\n",
      "32/32 [==============================] - 59s 2s/step - loss: 0.1644\n",
      "Epoch 8/10\n",
      "32/32 [==============================] - 58s 2s/step - loss: 0.1556\n",
      "Epoch 9/10\n",
      "32/32 [==============================] - 56s 2s/step - loss: 0.1473\n",
      "Epoch 10/10\n",
      "32/32 [==============================] - 55s 2s/step - loss: 0.1395\n"
     ]
    }
   ],
   "source": [
    "h = y.fit(X, X, batch_size=4, epochs=10)"
   ]
  },
  {
   "cell_type": "code",
   "execution_count": 13,
   "id": "487b5a3a",
   "metadata": {},
   "outputs": [
    {
     "name": "stdout",
     "output_type": "stream",
     "text": [
      "4/4 [==============================] - 31s 2s/step\n"
     ]
    },
    {
     "data": {
      "text/plain": [
       "<matplotlib.image.AxesImage at 0x27ec7b6d090>"
      ]
     },
     "execution_count": 13,
     "metadata": {},
     "output_type": "execute_result"
    },
    {
     "data": {
      "image/png": "[encoded data removed]",
      "text/plain": [
       "<Figure size 640x480 with 1 Axes>"
      ]
     },
     "metadata": {},
     "output_type": "display_data"
    }
   ],
   "source": [
    "plt.imshow(y.predict(X).sum((0,3)))"
   ]
  }
 ],
 "metadata": {
  "kernelspec": {
   "display_name": "Python 3 (ipykernel)",
   "language": "python",
   "name": "python3"
  },
  "language_info": {
   "codemirror_mode": {
    "name": "ipython",
    "version": 3
   },
   "file_extension": ".py",
   "mimetype": "text/x-python",
   "name": "python",
   "nbconvert_exporter": "python",
   "pygments_lexer": "ipython3",
   "version": "3.11.3"
  }
 },
 "nbformat": 4,
 "nbformat_minor": 5
}
